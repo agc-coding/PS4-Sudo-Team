{
 "cells": [
  {
   "cell_type": "code",
   "execution_count": null,
   "metadata": {},
   "outputs": [
    {
     "name": "stdin",
     "output_type": "stream",
     "text": [
      "Enter an anime name:  naruto\n"
     ]
    },
    {
     "name": "stdout",
     "output_type": "stream",
     "text": [
      "Retrieving https://api.jikan.moe/v3/search/anime?q=naruto\n",
      "Retrieved 31237 characters\n",
      "Naruto\n",
      "Naruto: Shippuuden\n",
      "Naruto: Shippuuden - Shippuu! \"Konoha Gakuen\" Den\n",
      "The Last: Naruto the Movie\n",
      "Naruto x UT\n",
      "Naruto: Shippuuden Movie 2 - Kizuna\n",
      "Boruto: Naruto the Movie\n",
      "Naruto: Shippuuden Movie 1\n",
      "Naruto: Shippuuden Movie 4 - The Lost Tower\n",
      "Naruto: Shippuuden - Sunny Side Battle\n",
      "Boruto: Naruto Next Generations\n",
      "Naruto: Shippuuden Movie 6 - Road to Ninja\n",
      "Naruto: Shippuuden Movie 5 - Blood Prison\n",
      "Naruto Movie 1: Dai Katsugeki!! Yuki Hime Shinobu Houjou Dattebayo!\n",
      "Boruto: Naruto the Movie - Naruto ga Hokage ni Natta Hi\n",
      "Naruto Movie 2: Dai Gekitotsu! Maboroshi no Chiteiiseki Dattebayo!\n",
      "Naruto SD: Rock Lee no Seishun Full-Power Ninden\n",
      "Naruto Movie 3: Dai Koufun! Mikazuki Jima no Animaru Panikku Dattebayo!\n",
      "Naruto: Akaki Yotsuba no Clover wo Sagase\n",
      "Naruto: The Cross Roads\n",
      "Naruto: Honoo no Chuunin Shiken! Naruto vs. Konohamaru!!\n",
      "Naruto Soyokazeden Movie: Naruto to Mashin to Mitsu no Onegai Dattebayo!!\n",
      "Kamiusagi Rope x Boruto: Naruto Next Generations\n",
      "Naruto Narutimate Hero 3: Tsuini Gekitotsu! Jounin vs. Genin!! Musabetsu Dairansen Taikai Kaisai!!\n",
      "Naruto: Takigakure no Shitou - Ore ga Eiyuu Dattebayo!\n",
      "Naruto: Shippuuden Movie 3 - Hi no Ishi wo Tsugu Mono\n",
      "Naruto: Dai Katsugeki!! Yuki Hime Shinobu Houjou Dattebayo! - Konoha no Sato no Dai Undoukai\n",
      "The total amount of anime found containing the word ' naruto ' is 27 .\n",
      "\n"
     ]
    },
    {
     "name": "stdin",
     "output_type": "stream",
     "text": [
      "Enter an anime name:  boruto\n"
     ]
    },
    {
     "name": "stdout",
     "output_type": "stream",
     "text": [
      "Retrieving https://api.jikan.moe/v3/search/anime?q=boruto\n",
      "Retrieved 30812 characters\n",
      "Boruto: Naruto the Movie\n",
      "Boruto: Naruto Next Generations\n",
      "Boruto: Naruto the Movie - Naruto ga Hokage ni Natta Hi\n",
      "Boruto: Jump Festa 2016 Special\n",
      "Kamiusagi Rope x Boruto: Naruto Next Generations\n",
      "The total amount of anime found containing the word ' boruto ' is 5 .\n",
      "\n"
     ]
    },
    {
     "name": "stdin",
     "output_type": "stream",
     "text": [
      "Enter an anime name:  inuyasha\n"
     ]
    },
    {
     "name": "stdout",
     "output_type": "stream",
     "text": [
      "Retrieving https://api.jikan.moe/v3/search/anime?q=inuyasha\n",
      "Retrieved 29629 characters\n",
      "InuYasha\n",
      "InuYasha: Kanketsu-hen\n",
      "InuYasha Movie 1: Toki wo Koeru Omoi\n",
      "InuYasha: Kuroi Tessaiga\n",
      "InuYasha Movie 4: Guren no Houraijima\n",
      "InuYasha Movie 3: Tenka Hadou no Ken\n",
      "InuYasha Movie 2: Kagami no Naka no Mugenjo\n",
      "Shounen Sunday CM Gekijou: InuYasha-hen\n",
      "The total amount of anime found containing the word ' inuyasha ' is 8 .\n",
      "\n"
     ]
    },
    {
     "name": "stdin",
     "output_type": "stream",
     "text": [
      "Enter an anime name:  maid\n"
     ]
    },
    {
     "name": "stdout",
     "output_type": "stream",
     "text": [
      "Retrieving https://api.jikan.moe/v3/search/anime?q=maid\n",
      "Retrieved 29546 characters\n",
      "Kaichou wa Maid-sama!\n",
      "Rozen Maiden\n",
      "Hand Maid May\n",
      "Maid in Heaven SuperS\n",
      "Rozen Maiden (2013)\n",
      "Rozen Maiden: Ouvertüre\n",
      "Uchi no Maid ga Uzasugiru!\n",
      "Maid of the Dead\n",
      "Shounen Maid\n",
      "Rozen Maiden: Träumend\n",
      "Kobayashi-san Chi no Maid Dragon\n",
      "Kaichou wa Maid-sama!: Omake dayo!\n",
      "Mahoromatic: Automatic Maiden\n",
      "Hand Maid May: Akiramemasen\n",
      "Maid Ane\n",
      "Maids in Dream\n",
      "Chainsaw Maid\n",
      "Dorei Maid Princess\n",
      "Hand Maid Mai\n",
      "Kamen no Maid Guy\n",
      "Hanaukyou Maid-tai: La Verite\n",
      "Uchi no Maid ga Uzasugiru!: Uchi no Maid wa Yappari Mou Honto Uzainda naa...\n",
      "Otome Juurin Yuugi: Maiden Infringement Play\n",
      "X Maiden\n",
      "Hanaukyou Maid-tai OVA\n",
      "Hanaukyou Maid-tai\n",
      "Tsun Tsun Maid wa Ero Ero Desu\n",
      "Maido! Urayasu Tekkin Kazoku\n",
      "Kobayashi-san Chi no Maid Dragon: Valentine, Soshite Onsen! - Amari Kitai Shinaide Kudasai\n",
      "Oshiete Re: Maid\n",
      "Kobayashi-san Chi no Maid Dragon S\n",
      "Bakunyuu Maid Kari\n",
      "Victorian Maid Maria no Houshi\n",
      "Rozen Maiden: Meitantei Kunkun - Duell Walzer\n",
      "Docchi mo Maid\n",
      "Maid Meshimase\n",
      "The total amount of anime found containing the word ' maid ' is 36 .\n",
      "\n"
     ]
    },
    {
     "name": "stdin",
     "output_type": "stream",
     "text": [
      "Enter an anime name:  high school\n"
     ]
    },
    {
     "name": "stdout",
     "output_type": "stream",
     "text": [
      "Retrieving https://api.jikan.moe/v3/search/anime?q=high+school\n",
      "Retrieved 30191 characters\n",
      "High School Fleet\n",
      "High School DxD New: Oppai, Tsutsumimasu!\n",
      "High School DxD BorN\n",
      "High School DxD Hero\n",
      "High School DxD Hero: Taiikukan-ura no Holy\n",
      "High School DxD\n",
      "High School DxD New\n",
      "Samurai Girl Real Bout High School\n",
      "High School! Kimengumi (Movie)\n",
      "High School DxD OVA\n",
      "High School! Kimengumi\n",
      "High School DxD BorN: Yomigaeranai Fushichou\n",
      "High School DxD BorN: Ishibumi Ichiei Kanzen Kanshuu! Mousou Bakuyou Kaijo Original Video\n",
      "Battle Royal High School\n",
      "High School Mystery: Gakuen Nanafushigi\n",
      "High School Fleet Movie\n",
      "Detective Conan OVA 08: High School Girl Detective Sonoko Suzuki's Case Files\n",
      "The total amount of anime found containing the word ' high school ' is 17 .\n",
      "\n"
     ]
    },
    {
     "name": "stdin",
     "output_type": "stream",
     "text": [
      "Enter an anime name:  hani\n"
     ]
    },
    {
     "name": "stdout",
     "output_type": "stream",
     "text": [
      "Retrieving https://api.jikan.moe/v3/search/anime?q=hani\n",
      "Retrieved 29006 characters\n",
      "Dallyeola Hani\n",
      "Ooi! Hanimaru\n",
      "Hanitarou Desu.\n",
      "Cheonbangjichuk Hani\n",
      "Bakumatsu Kikansetsu Irohanihoheto\n",
      "Kaibutsu-kun: Suna Majin wo Yattsukero no Maki / Kaibutsu-kun to Haniwa Kaishin no Maki\n",
      "Kanokon: Manatsu no Dai Shanikusai Specials\n",
      "Kanokon: Manatsu no Dai Shanikusai\n",
      "Afghanistan Paghman-mura no Monogatari: Boku no Mura ni Circus ga Kita\n",
      "Afghanistan Paghman-mura no Monogatari: Sekaiichi Utsukushii Boku no Mura\n",
      "The total amount of anime found containing the word ' hani ' is 10 .\n",
      "\n"
     ]
    },
    {
     "name": "stdin",
     "output_type": "stream",
     "text": [
      "Enter an anime name:  kiss\n"
     ]
    },
    {
     "name": "stdout",
     "output_type": "stream",
     "text": [
      "Retrieving https://api.jikan.moe/v3/search/anime?q=kiss\n",
      "Retrieved 29054 characters\n",
      "Paradise Kiss\n",
      "Itazura na Kiss\n",
      "Kiss x Sis\n",
      "Papa to Kiss in the Dark\n",
      "Kiss x Sis (TV)\n",
      "Tayutama: Kiss on My Deity\n",
      "Kiss yori...\n",
      "Tropical Kiss\n",
      "Kiss of Life\n",
      "Kiss Hug\n",
      "First Kiss Monogatari\n",
      "KimiKiss Pure Rouge\n",
      "Koikishi Purely☆Kiss The Animation\n",
      "Ookami Shoujo to Kuro Ouji: Gishinanki – Happening Kiss\n",
      "Namaiki: Kissuisou e Youkoso! The Animation\n",
      "Marginal#4: Kiss kara Tsukuru Big Bang\n",
      "Hitozuma Cosplay Kissa\n",
      "Binan Koukou Chikyuu Boueibu Happy Kiss!\n",
      "Kiss made, Ato 1 Byou.\n",
      "Kiss Dum: Omokage\n",
      "Love Live! x Watering KissMint Collaboration CM\n",
      "Kiss Dum: Engage Planet\n",
      "Kiss wa Hitomi ni Shite\n",
      "Kissaten Soudou\n",
      "Hitozuma Cosplay Kissa 2: Hitozuma LoveLove - Cosplay OVA\n",
      "Kiss Dum R: Meguriahi\n",
      "Mahou Shoujo wa Kiss Shite Kawaru\n",
      "KimiKiss Pure Rouge: Love Fighter\n",
      "Kiss Shite Hoshii\n",
      "\"Kiss Dekiru Gyoza\" x Mameshiba Movie\n",
      "Tsuyokiss\n",
      "The total amount of anime found containing the word ' kiss ' is 31 .\n",
      "\n"
     ]
    },
    {
     "name": "stdin",
     "output_type": "stream",
     "text": [
      "Enter an anime name:  attack\n"
     ]
    },
    {
     "name": "stdout",
     "output_type": "stream",
     "text": [
      "Retrieving https://api.jikan.moe/v3/search/anime?q=attack\n",
      "Retrieved 29646 characters\n",
      "Attack No.1\n",
      "Attacker You!\n",
      "Ashita e Attack!\n",
      "Attack No.1 (1970)\n",
      "Mechano: Scientific Attack Force\n",
      "Jewelpet: Attack Chance!?\n",
      "Attack No.1: Namida no Kaiten Receive\n",
      "Attack No.1: Namida no Fushichou\n",
      "Zoku Attacker You! Kin Medal e no Michi\n",
      "Inazma Delivery: Dougyousha Attack-hen\n",
      "Jewelpet: Attack Travel!\n",
      "Attack No.1: Namida no Sekai Senshuken\n",
      "Mobile Suit Gundam: Char's Counterattack\n",
      "Mobile Suit SD Gundam's Counterattack\n",
      "The total amount of anime found containing the word ' attack ' is 14 .\n",
      "\n"
     ]
    },
    {
     "name": "stdin",
     "output_type": "stream",
     "text": [
      "Enter an anime name:  attack on titan\n"
     ]
    },
    {
     "name": "stdout",
     "output_type": "stream",
     "text": [
      "Retrieving https://api.jikan.moe/v3/search/anime?q=attack+on+titan\n",
      "Retrieved 29395 characters\n",
      "The total amount of anime found containing the word ' attack on titan ' is 0 .\n",
      "\n"
     ]
    },
    {
     "name": "stdin",
     "output_type": "stream",
     "text": [
      "Enter an anime name:  black\n"
     ]
    },
    {
     "name": "stdout",
     "output_type": "stream",
     "text": [
      "Retrieving https://api.jikan.moe/v3/search/anime?q=black\n",
      "Retrieved 29820 characters\n",
      "Black Lagoon\n",
      "Black Fox\n",
      "Black Cat (TV)\n",
      "Darker than Black: Kuro no Keiyakusha\n",
      "Black Clover\n",
      "Darker than Black: Ryuusei no Gemini\n",
      "Black Bullet\n",
      "Young Black Jack\n",
      "Black Lagoon: Roberta's Blood Trail\n",
      "Black Jack\n",
      "Closers: Side Blacklambs\n",
      "Black Lagoon: The Second Barrage\n",
      "Black★Rock Shooter (TV)\n",
      "Seiken no Blacksmith\n",
      "Black Shout\n",
      "Bleach Movie 3: Fade to Black - Kimi no Na wo Yobu\n",
      "Black Jack the Movie\n",
      "Bible Black Gaiden\n",
      "Black'n White Jammin' Cats\n",
      "Black Blood Brothers\n",
      "Black Jack (TV)\n",
      "Goulart Knights: Evoked the Beginning Black\n",
      "Blade Runner: Black Out 2022\n",
      "Bible Black\n",
      "Mugyutto! Black Clover\n",
      "Black Jack 21\n",
      "Hataraku Saibou Black (TV)\n",
      "Black Magic M-66\n",
      "Blade Runner: Black Lotus\n",
      "Black Jack ONA\n",
      "Black Jack: Futari no Kuroi Isha\n",
      "Hataraku Saibou Black\n",
      "Darker than Black: Kuro no Keiyakusha Gaiden\n",
      "Bible Black: New Testament\n",
      "Black Ocean\n",
      "Black Clover: Jump Festa 2018 Special\n",
      "Darker than Black: Kuro no Keiyakusha - Sakura no Hana no Mankai no Shita\n",
      "Bible Black Only Version\n",
      "Black Lagoon Omake\n",
      "Black★Rock Shooter\n",
      "The total amount of anime found containing the word ' black ' is 40 .\n",
      "\n"
     ]
    },
    {
     "name": "stdin",
     "output_type": "stream",
     "text": [
      "Enter an anime name:  hero\n"
     ]
    },
    {
     "name": "stdout",
     "output_type": "stream",
     "text": [
      "Retrieving https://api.jikan.moe/v3/search/anime?q=hero\n",
      "Retrieved 29693 characters\n",
      "To Be Hero\n",
      "Heroic Age\n",
      "Heroman\n",
      "High School DxD Hero\n",
      "Hero Bank\n",
      "Boku no Hero Academia the Movie 1: Futari no Hero\n",
      "Juushin Enbu: Hero Tales\n",
      "Boku no Hero Academia\n",
      "Boku no Hero Academia 3rd Season\n",
      "Boku no Hero Academia 2nd Season\n",
      "Boku no Hero Academia the Movie 2: Heroes:Rising\n",
      "Boku no Hero Academia 4th Season\n",
      "Boku no Hero Academia 2nd Season: Hero Note\n",
      "Hitorijime My Hero\n",
      "Hero Mask\n",
      "Boku no Hero Academia the Movie: Futari no Hero Specials\n",
      "One Punch Man: Road to Hero\n",
      "Stand My Heroes: Piece of Truth\n",
      "Heroman Specials\n",
      "Glamorous Heroes\n",
      "Action Heroine Cheer Fruits\n",
      "King of Prism: Pride the Hero\n",
      "Hero Hero-kun\n",
      "Hero Mask (2019)\n",
      "Saenai Heroine no Sodatekata\n",
      "High School DxD Hero: Taiikukan-ura no Holy\n",
      "Shin Chou Kyou Ryo: Condor Hero\n",
      "Hokuto no Ken: Legend of Heroes\n",
      "Saenai Heroine no Sodatekata ♭\n",
      "Boku no Hero Academia: Ikinokore! Kesshi no Survival Kunren\n",
      "Saenai Heroine no Sodatekata Fine\n",
      "Boku no Hero Academia 5th Season\n",
      "Super Dragon Ball Heroes\n",
      "Shin Chou Kyou Ryo: Condor Hero III\n",
      "Ometeotl Hero\n",
      "The total amount of anime found containing the word ' hero ' is 35 .\n",
      "\n"
     ]
    }
   ],
   "source": [
    "#This prints out all animes or anime movies that contain a name or word.\n",
    "\n",
    "import urllib.request, urllib.parse, urllib.error\n",
    "import json\n",
    "import re\n",
    "\n",
    "serviceurl = 'https://api.jikan.moe/v3/search/anime'\n",
    "\n",
    "while True:\n",
    "    anime_name = input('Enter an anime name: ')\n",
    "    if len(anime_name) < 1: break\n",
    "        \n",
    "        #autocomplete?begins_with=\"software\"\n",
    "        \n",
    "    url = serviceurl + \"?\" + urllib.parse.urlencode(\n",
    "        {'q': anime_name})\n",
    "    #testing api\n",
    "\n",
    "    print('Retrieving', url)\n",
    "    uh = urllib.request.urlopen(url)\n",
    "    data = uh.read().decode()\n",
    "    data = re.search('(\\[.*\\])', data) #gets everything between brackets & brackets too\n",
    "    data = data.group(1)\n",
    "    print('Retrieved', len(data), 'characters')\n",
    "\n",
    "    try:\n",
    "        js = json.loads(data)\n",
    "    except:\n",
    "        js = None\n",
    "        print('nothing found')\n",
    "    \n",
    "    count = 0;\n",
    "    for line in js:\n",
    "        if anime_name.lower() in line['title'].lower() :\n",
    "            print(line['title'])\n",
    "            count+= 1;\n",
    "            \n",
    "    print(\"The total amount of anime found containing the word '\",anime_name,\"' is\", count, \".\")\n",
    "    print()\n",
    "    "
   ]
  },
  {
   "cell_type": "code",
   "execution_count": null,
   "metadata": {},
   "outputs": [],
   "source": []
  }
 ],
 "metadata": {
  "kernelspec": {
   "display_name": "Python 3.8 (full)",
   "language": "python",
   "name": "python3-3.8-ufrc"
  },
  "language_info": {
   "codemirror_mode": {
    "name": "ipython",
    "version": 3
   },
   "file_extension": ".py",
   "mimetype": "text/x-python",
   "name": "python",
   "nbconvert_exporter": "python",
   "pygments_lexer": "ipython3",
   "version": "3.8.5"
  }
 },
 "nbformat": 4,
 "nbformat_minor": 4
}
